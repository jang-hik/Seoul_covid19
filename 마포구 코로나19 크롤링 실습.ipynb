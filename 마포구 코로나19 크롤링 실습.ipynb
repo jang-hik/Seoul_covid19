{
 "cells": [
  {
   "cell_type": "code",
   "execution_count": 1,
   "id": "91db67d3",
   "metadata": {
    "ExecuteTime": {
     "end_time": "2022-01-31T11:35:54.250867Z",
     "start_time": "2022-01-31T11:35:53.444955Z"
    }
   },
   "outputs": [],
   "source": [
    "import pandas as pd\n",
    "import numpy as np"
   ]
  },
  {
   "cell_type": "markdown",
   "id": "894ba785",
   "metadata": {
    "ExecuteTime": {
     "end_time": "2022-01-31T13:37:55.057483Z",
     "start_time": "2022-01-31T13:37:55.037392Z"
    }
   },
   "source": [
    " # 크롤링에 필요한 주소 복사"
   ]
  },
  {
   "cell_type": "code",
   "execution_count": 2,
   "id": "2ea61885",
   "metadata": {
    "ExecuteTime": {
     "end_time": "2022-01-31T11:35:54.283111Z",
     "start_time": "2022-01-31T11:35:54.255712Z"
    }
   },
   "outputs": [
    {
     "data": {
      "text/plain": [
       "'https://www.seoul.go.kr/coronaV/coronaStatus.do'"
      ]
     },
     "execution_count": 2,
     "metadata": {},
     "output_type": "execute_result"
    }
   ],
   "source": [
    "# 크롤링으로 가져올 주소를 복사합니다.\n",
    "url = \"https://www.seoul.go.kr/coronaV/coronaStatus.do\"\n",
    "url"
   ]
  },
  {
   "cell_type": "markdown",
   "id": "8a508972",
   "metadata": {
    "ExecuteTime": {
     "end_time": "2022-01-31T13:38:28.224794Z",
     "start_time": "2022-01-31T13:38:28.211885Z"
    }
   },
   "source": [
    " # read_html로 크롤링할 주소 불러오기"
   ]
  },
  {
   "cell_type": "code",
   "execution_count": 3,
   "id": "577ba73a",
   "metadata": {
    "ExecuteTime": {
     "end_time": "2022-01-31T11:35:55.091201Z",
     "start_time": "2022-01-31T11:35:54.287275Z"
    }
   },
   "outputs": [
    {
     "data": {
      "text/plain": [
       "[     강남구    강동구   강북구    강서구    관악구    광진구    구로구   금천구    노원구   도봉구   동대문구  \\\n",
       " 0  15912  11383  7805  12613  14233   9059  12652  6854  12176  8019  11227   \n",
       " 1   +255   +214   +85   +216   +306   +187   +139   +75   +219   +90   +131   \n",
       " 2   서대문구    서초구   성동구    성북구    송파구    양천구   영등포구   용산구    은평구   종로구     중구   \n",
       " 3   7655  10685  7140  11557  17022  10218  12456  6698  11445  4727   4439   \n",
       " 4    +90   +186  +119   +147   +306   +209   +154  +101    +99   +59    +35   \n",
       " \n",
       "      동작구    마포구  \n",
       " 0  10764   9580  \n",
       " 1   +182   +170  \n",
       " 2    중랑구     기타  \n",
       " 3  10256  20750  \n",
       " 4   +127   +292  ,\n",
       "       강남구    강동구    강북구    강서구    관악구    광진구\n",
       " 0   15912  11383   7805  12613  14233   9059\n",
       " 1    +255   +214    +85   +216   +306   +187\n",
       " 2     구로구    금천구    노원구    도봉구   동대문구    동작구\n",
       " 3   12652   6854  12176   8019  11227  10764\n",
       " 4    +139    +75   +219    +90   +131   +182\n",
       " 5     마포구   서대문구    서초구    성동구    성북구    송파구\n",
       " 6    9580   7655  10685   7140  11557  17022\n",
       " 7    +170    +90   +186   +119   +147   +306\n",
       " 8     양천구   영등포구    용산구    은평구    종로구     중구\n",
       " 9   10218  12456   6698  11445   4727   4439\n",
       " 10   +209   +154   +101    +99    +59    +35\n",
       " 11    중랑구     기타    NaN    NaN    NaN    NaN\n",
       " 12  10256  20750    NaN    NaN    NaN    NaN\n",
       " 13   +127   +292    NaN    NaN    NaN    NaN,\n",
       "       구 분   합 계  9세 이하  10세~19세  20세~29세  30세~39세  40세~49세  50세~59세  60세~69세  \\\n",
       " 0  확진자(명)  4193  375.0    725.0   1052.0    718.0    632.0    364.0    220.0   \n",
       " 1   비율(%)   100    8.9     17.3     25.1     17.1     15.1      8.7      5.2   \n",
       " \n",
       "    70세 이상  \n",
       " 0   107.0  \n",
       " 1     2.6  ,\n",
       "        일자     1.30    1.29.     1.28.     1.27.     1.26.     1.25.     1.24.\n",
       " 0  검사자(명)  74831.0  95592.0  150422.0  137908.0  126349.0  119881.0  114653.0\n",
       " 1  확진자(명)   4193.0   4185.0    4199.0    3991.0    3429.0    3178.0    1723.0\n",
       " 2  확진율(%)      4.4      2.8       3.0       3.2       2.9       2.8       3.0,\n",
       "        소계  해외 유입  송파구 소재 교정시설 관련 ('22.1.)  노원구 소재 음식점 관련(‘22.1.)  \\\n",
       " 0  277325   4547                       63                     37   \n",
       " \n",
       "    서대문구 소재 요양시설 관련  은평구소재 어린이집 관련(‘22.1(2))  기타 집단감염  기타 확진자 접촉  감염 경로 조사중  \n",
       " 0               19                       13    38341     120760     113545  ,\n",
       "                        일                      월                      화  \\\n",
       " 0                    NaN                    NaN                    NaN   \n",
       " 1   2  227,866  (+1,180)     3  228,856  (+990)     4  229,793  (+937)   \n",
       " 2     9  235,397  (+961)    10  236,179  (+781)    11  236,933  (+755)   \n",
       " 3    16  241,768  (+923)    17  242,556  (+788)    18  243,318  (+762)   \n",
       " 4  23  250,748  (+1,694)  24  252,427  (+1,679)  25  254,150  (+1,723)   \n",
       " 5  30  273,132  (+4,185)  31  277,325  (+4,193)                    NaN   \n",
       " \n",
       "                        수                      목                      금  \\\n",
       " 0                    NaN                    NaN                    NaN   \n",
       " 1   5  231,203  (+1,410)   6  232,411  (+1,208)   7  233,446  (+1,035)   \n",
       " 2  12  238,024  (+1,091)    13  239,001  (+977)    14  239,938  (+937)   \n",
       " 3  19  244,551  (+1,230)  20  245,913  (+1,362)  21  247,464  (+1,551)   \n",
       " 4  26  257,328  (+3,178)  27  260,757  (+3,429)  28  264,748  (+3,991)   \n",
       " 5                    NaN                    NaN                    NaN   \n",
       " \n",
       "                        토  \n",
       " 0   1  226,686  (+1,463)  \n",
       " 1     8  234,436  (+990)  \n",
       " 2    15  240,848  (+910)  \n",
       " 3  22  249,054  (+1,591)  \n",
       " 4  29  268,947  (+4,199)  \n",
       " 5                    NaN  ]"
      ]
     },
     "execution_count": 3,
     "metadata": {},
     "output_type": "execute_result"
    }
   ],
   "source": [
    "# 판다스의 read_html을 통해 html주소를 불러옵니다.\n",
    "table=pd.read_html(url)\n",
    "table"
   ]
  },
  {
   "cell_type": "code",
   "execution_count": 4,
   "id": "bc420c9b",
   "metadata": {
    "ExecuteTime": {
     "end_time": "2022-01-31T11:35:55.109351Z",
     "start_time": "2022-01-31T11:35:55.097774Z"
    }
   },
   "outputs": [
    {
     "data": {
      "text/plain": [
       "6"
      ]
     },
     "execution_count": 4,
     "metadata": {},
     "output_type": "execute_result"
    }
   ],
   "source": [
    "#서울시 코로나 데이터는 html에 6개의 테이블로 구성되어 있음\n",
    "len(table)"
   ]
  },
  {
   "cell_type": "code",
   "execution_count": 5,
   "id": "66f7666e",
   "metadata": {
    "ExecuteTime": {
     "end_time": "2022-01-31T11:35:55.154999Z",
     "start_time": "2022-01-31T11:35:55.112484Z"
    }
   },
   "outputs": [
    {
     "data": {
      "text/html": [
       "<div>\n",
       "<style scoped>\n",
       "    .dataframe tbody tr th:only-of-type {\n",
       "        vertical-align: middle;\n",
       "    }\n",
       "\n",
       "    .dataframe tbody tr th {\n",
       "        vertical-align: top;\n",
       "    }\n",
       "\n",
       "    .dataframe thead th {\n",
       "        text-align: right;\n",
       "    }\n",
       "</style>\n",
       "<table border=\"1\" class=\"dataframe\">\n",
       "  <thead>\n",
       "    <tr style=\"text-align: right;\">\n",
       "      <th></th>\n",
       "      <th>강남구</th>\n",
       "      <th>강동구</th>\n",
       "      <th>강북구</th>\n",
       "      <th>강서구</th>\n",
       "      <th>관악구</th>\n",
       "      <th>광진구</th>\n",
       "    </tr>\n",
       "  </thead>\n",
       "  <tbody>\n",
       "    <tr>\n",
       "      <th>0</th>\n",
       "      <td>15912</td>\n",
       "      <td>11383</td>\n",
       "      <td>7805</td>\n",
       "      <td>12613</td>\n",
       "      <td>14233</td>\n",
       "      <td>9059</td>\n",
       "    </tr>\n",
       "    <tr>\n",
       "      <th>1</th>\n",
       "      <td>+255</td>\n",
       "      <td>+214</td>\n",
       "      <td>+85</td>\n",
       "      <td>+216</td>\n",
       "      <td>+306</td>\n",
       "      <td>+187</td>\n",
       "    </tr>\n",
       "    <tr>\n",
       "      <th>2</th>\n",
       "      <td>구로구</td>\n",
       "      <td>금천구</td>\n",
       "      <td>노원구</td>\n",
       "      <td>도봉구</td>\n",
       "      <td>동대문구</td>\n",
       "      <td>동작구</td>\n",
       "    </tr>\n",
       "    <tr>\n",
       "      <th>3</th>\n",
       "      <td>12652</td>\n",
       "      <td>6854</td>\n",
       "      <td>12176</td>\n",
       "      <td>8019</td>\n",
       "      <td>11227</td>\n",
       "      <td>10764</td>\n",
       "    </tr>\n",
       "    <tr>\n",
       "      <th>4</th>\n",
       "      <td>+139</td>\n",
       "      <td>+75</td>\n",
       "      <td>+219</td>\n",
       "      <td>+90</td>\n",
       "      <td>+131</td>\n",
       "      <td>+182</td>\n",
       "    </tr>\n",
       "    <tr>\n",
       "      <th>5</th>\n",
       "      <td>마포구</td>\n",
       "      <td>서대문구</td>\n",
       "      <td>서초구</td>\n",
       "      <td>성동구</td>\n",
       "      <td>성북구</td>\n",
       "      <td>송파구</td>\n",
       "    </tr>\n",
       "    <tr>\n",
       "      <th>6</th>\n",
       "      <td>9580</td>\n",
       "      <td>7655</td>\n",
       "      <td>10685</td>\n",
       "      <td>7140</td>\n",
       "      <td>11557</td>\n",
       "      <td>17022</td>\n",
       "    </tr>\n",
       "    <tr>\n",
       "      <th>7</th>\n",
       "      <td>+170</td>\n",
       "      <td>+90</td>\n",
       "      <td>+186</td>\n",
       "      <td>+119</td>\n",
       "      <td>+147</td>\n",
       "      <td>+306</td>\n",
       "    </tr>\n",
       "    <tr>\n",
       "      <th>8</th>\n",
       "      <td>양천구</td>\n",
       "      <td>영등포구</td>\n",
       "      <td>용산구</td>\n",
       "      <td>은평구</td>\n",
       "      <td>종로구</td>\n",
       "      <td>중구</td>\n",
       "    </tr>\n",
       "    <tr>\n",
       "      <th>9</th>\n",
       "      <td>10218</td>\n",
       "      <td>12456</td>\n",
       "      <td>6698</td>\n",
       "      <td>11445</td>\n",
       "      <td>4727</td>\n",
       "      <td>4439</td>\n",
       "    </tr>\n",
       "    <tr>\n",
       "      <th>10</th>\n",
       "      <td>+209</td>\n",
       "      <td>+154</td>\n",
       "      <td>+101</td>\n",
       "      <td>+99</td>\n",
       "      <td>+59</td>\n",
       "      <td>+35</td>\n",
       "    </tr>\n",
       "    <tr>\n",
       "      <th>11</th>\n",
       "      <td>중랑구</td>\n",
       "      <td>기타</td>\n",
       "      <td>NaN</td>\n",
       "      <td>NaN</td>\n",
       "      <td>NaN</td>\n",
       "      <td>NaN</td>\n",
       "    </tr>\n",
       "    <tr>\n",
       "      <th>12</th>\n",
       "      <td>10256</td>\n",
       "      <td>20750</td>\n",
       "      <td>NaN</td>\n",
       "      <td>NaN</td>\n",
       "      <td>NaN</td>\n",
       "      <td>NaN</td>\n",
       "    </tr>\n",
       "    <tr>\n",
       "      <th>13</th>\n",
       "      <td>+127</td>\n",
       "      <td>+292</td>\n",
       "      <td>NaN</td>\n",
       "      <td>NaN</td>\n",
       "      <td>NaN</td>\n",
       "      <td>NaN</td>\n",
       "    </tr>\n",
       "  </tbody>\n",
       "</table>\n",
       "</div>"
      ],
      "text/plain": [
       "      강남구    강동구    강북구    강서구    관악구    광진구\n",
       "0   15912  11383   7805  12613  14233   9059\n",
       "1    +255   +214    +85   +216   +306   +187\n",
       "2     구로구    금천구    노원구    도봉구   동대문구    동작구\n",
       "3   12652   6854  12176   8019  11227  10764\n",
       "4    +139    +75   +219    +90   +131   +182\n",
       "5     마포구   서대문구    서초구    성동구    성북구    송파구\n",
       "6    9580   7655  10685   7140  11557  17022\n",
       "7    +170    +90   +186   +119   +147   +306\n",
       "8     양천구   영등포구    용산구    은평구    종로구     중구\n",
       "9   10218  12456   6698  11445   4727   4439\n",
       "10   +209   +154   +101    +99    +59    +35\n",
       "11    중랑구     기타    NaN    NaN    NaN    NaN\n",
       "12  10256  20750    NaN    NaN    NaN    NaN\n",
       "13   +127   +292    NaN    NaN    NaN    NaN"
      ]
     },
     "execution_count": 5,
     "metadata": {},
     "output_type": "execute_result"
    }
   ],
   "source": [
    "table[1]"
   ]
  },
  {
   "cell_type": "code",
   "execution_count": 6,
   "id": "0c610212",
   "metadata": {
    "ExecuteTime": {
     "end_time": "2022-01-31T11:35:55.214449Z",
     "start_time": "2022-01-31T11:35:55.158433Z"
    }
   },
   "outputs": [
    {
     "data": {
      "text/html": [
       "<div>\n",
       "<style scoped>\n",
       "    .dataframe tbody tr th:only-of-type {\n",
       "        vertical-align: middle;\n",
       "    }\n",
       "\n",
       "    .dataframe tbody tr th {\n",
       "        vertical-align: top;\n",
       "    }\n",
       "\n",
       "    .dataframe thead th {\n",
       "        text-align: right;\n",
       "    }\n",
       "</style>\n",
       "<table border=\"1\" class=\"dataframe\">\n",
       "  <thead>\n",
       "    <tr style=\"text-align: right;\">\n",
       "      <th></th>\n",
       "      <th>0</th>\n",
       "      <th>1</th>\n",
       "      <th>2</th>\n",
       "      <th>3</th>\n",
       "      <th>4</th>\n",
       "      <th>5</th>\n",
       "      <th>6</th>\n",
       "      <th>7</th>\n",
       "      <th>8</th>\n",
       "      <th>9</th>\n",
       "      <th>10</th>\n",
       "      <th>11</th>\n",
       "      <th>12</th>\n",
       "      <th>13</th>\n",
       "    </tr>\n",
       "  </thead>\n",
       "  <tbody>\n",
       "    <tr>\n",
       "      <th>강남구</th>\n",
       "      <td>15912</td>\n",
       "      <td>+255</td>\n",
       "      <td>구로구</td>\n",
       "      <td>12652</td>\n",
       "      <td>+139</td>\n",
       "      <td>마포구</td>\n",
       "      <td>9580</td>\n",
       "      <td>+170</td>\n",
       "      <td>양천구</td>\n",
       "      <td>10218</td>\n",
       "      <td>+209</td>\n",
       "      <td>중랑구</td>\n",
       "      <td>10256</td>\n",
       "      <td>+127</td>\n",
       "    </tr>\n",
       "    <tr>\n",
       "      <th>강동구</th>\n",
       "      <td>11383</td>\n",
       "      <td>+214</td>\n",
       "      <td>금천구</td>\n",
       "      <td>6854</td>\n",
       "      <td>+75</td>\n",
       "      <td>서대문구</td>\n",
       "      <td>7655</td>\n",
       "      <td>+90</td>\n",
       "      <td>영등포구</td>\n",
       "      <td>12456</td>\n",
       "      <td>+154</td>\n",
       "      <td>기타</td>\n",
       "      <td>20750</td>\n",
       "      <td>+292</td>\n",
       "    </tr>\n",
       "    <tr>\n",
       "      <th>강북구</th>\n",
       "      <td>7805</td>\n",
       "      <td>+85</td>\n",
       "      <td>노원구</td>\n",
       "      <td>12176</td>\n",
       "      <td>+219</td>\n",
       "      <td>서초구</td>\n",
       "      <td>10685</td>\n",
       "      <td>+186</td>\n",
       "      <td>용산구</td>\n",
       "      <td>6698</td>\n",
       "      <td>+101</td>\n",
       "      <td>NaN</td>\n",
       "      <td>NaN</td>\n",
       "      <td>NaN</td>\n",
       "    </tr>\n",
       "    <tr>\n",
       "      <th>강서구</th>\n",
       "      <td>12613</td>\n",
       "      <td>+216</td>\n",
       "      <td>도봉구</td>\n",
       "      <td>8019</td>\n",
       "      <td>+90</td>\n",
       "      <td>성동구</td>\n",
       "      <td>7140</td>\n",
       "      <td>+119</td>\n",
       "      <td>은평구</td>\n",
       "      <td>11445</td>\n",
       "      <td>+99</td>\n",
       "      <td>NaN</td>\n",
       "      <td>NaN</td>\n",
       "      <td>NaN</td>\n",
       "    </tr>\n",
       "    <tr>\n",
       "      <th>관악구</th>\n",
       "      <td>14233</td>\n",
       "      <td>+306</td>\n",
       "      <td>동대문구</td>\n",
       "      <td>11227</td>\n",
       "      <td>+131</td>\n",
       "      <td>성북구</td>\n",
       "      <td>11557</td>\n",
       "      <td>+147</td>\n",
       "      <td>종로구</td>\n",
       "      <td>4727</td>\n",
       "      <td>+59</td>\n",
       "      <td>NaN</td>\n",
       "      <td>NaN</td>\n",
       "      <td>NaN</td>\n",
       "    </tr>\n",
       "    <tr>\n",
       "      <th>광진구</th>\n",
       "      <td>9059</td>\n",
       "      <td>+187</td>\n",
       "      <td>동작구</td>\n",
       "      <td>10764</td>\n",
       "      <td>+182</td>\n",
       "      <td>송파구</td>\n",
       "      <td>17022</td>\n",
       "      <td>+306</td>\n",
       "      <td>중구</td>\n",
       "      <td>4439</td>\n",
       "      <td>+35</td>\n",
       "      <td>NaN</td>\n",
       "      <td>NaN</td>\n",
       "      <td>NaN</td>\n",
       "    </tr>\n",
       "  </tbody>\n",
       "</table>\n",
       "</div>"
      ],
      "text/plain": [
       "        0     1     2      3     4     5      6     7     8      9     10  \\\n",
       "강남구  15912  +255   구로구  12652  +139   마포구   9580  +170   양천구  10218  +209   \n",
       "강동구  11383  +214   금천구   6854   +75  서대문구   7655   +90  영등포구  12456  +154   \n",
       "강북구   7805   +85   노원구  12176  +219   서초구  10685  +186   용산구   6698  +101   \n",
       "강서구  12613  +216   도봉구   8019   +90   성동구   7140  +119   은평구  11445   +99   \n",
       "관악구  14233  +306  동대문구  11227  +131   성북구  11557  +147   종로구   4727   +59   \n",
       "광진구   9059  +187   동작구  10764  +182   송파구  17022  +306    중구   4439   +35   \n",
       "\n",
       "      11     12    13  \n",
       "강남구  중랑구  10256  +127  \n",
       "강동구   기타  20750  +292  \n",
       "강북구  NaN    NaN   NaN  \n",
       "강서구  NaN    NaN   NaN  \n",
       "관악구  NaN    NaN   NaN  \n",
       "광진구  NaN    NaN   NaN  "
      ]
     },
     "execution_count": 6,
     "metadata": {},
     "output_type": "execute_result"
    }
   ],
   "source": [
    "table[1].T    # .T 랑.transpose()는 행과 열을 바꿈"
   ]
  },
  {
   "cell_type": "code",
   "execution_count": 7,
   "id": "12ef9c5a",
   "metadata": {
    "ExecuteTime": {
     "end_time": "2022-01-31T11:35:55.238149Z",
     "start_time": "2022-01-31T11:35:55.217650Z"
    }
   },
   "outputs": [
    {
     "data": {
      "text/plain": [
       "'https://www.mapo.go.kr/site/main/content/mapo031002#non'"
      ]
     },
     "execution_count": 7,
     "metadata": {},
     "output_type": "execute_result"
    }
   ],
   "source": [
    "url2=\"https://www.mapo.go.kr/site/main/content/mapo031002#non\"\n",
    "url2"
   ]
  },
  {
   "cell_type": "code",
   "execution_count": 8,
   "id": "ade6fe07",
   "metadata": {
    "ExecuteTime": {
     "end_time": "2022-01-31T11:35:56.084383Z",
     "start_time": "2022-01-31T11:35:55.245124Z"
    }
   },
   "outputs": [
    {
     "data": {
      "text/plain": [
       "[        확진자 번호        확진일            감염경로  비고\n",
       " 0    9613~9620  1. 30.(일)            확인 중 NaN\n",
       " 1    9611~9612  1. 30.(일)          확진자 접촉 NaN\n",
       " 2         9610  1. 30.(일)            확인 중 NaN\n",
       " 3    9607~9609  1. 30.(일)          확진자 접촉 NaN\n",
       " 4    9605~9606  1. 30.(일)            확인 중 NaN\n",
       " ..         ...        ...             ...  ..\n",
       " 744       8269  1. 19.(수)  마포구 확진자 접촉(가족) NaN\n",
       " 745       8268  1. 19.(수)  마포구 확진자 접촉(가족) NaN\n",
       " 746       8267  1. 19.(수)            본인판단 NaN\n",
       " 747       8266  1. 19.(수)            본인판단 NaN\n",
       " 748       8265  1. 19.(수)            본인판단 NaN\n",
       " \n",
       " [749 rows x 4 columns]]"
      ]
     },
     "execution_count": 8,
     "metadata": {},
     "output_type": "execute_result"
    }
   ],
   "source": [
    "table2=pd.read_html(url2)\n",
    "table2"
   ]
  },
  {
   "cell_type": "code",
   "execution_count": 9,
   "id": "42755371",
   "metadata": {
    "ExecuteTime": {
     "end_time": "2022-01-31T11:35:56.122509Z",
     "start_time": "2022-01-31T11:35:56.089015Z"
    }
   },
   "outputs": [
    {
     "data": {
      "text/html": [
       "<div>\n",
       "<style scoped>\n",
       "    .dataframe tbody tr th:only-of-type {\n",
       "        vertical-align: middle;\n",
       "    }\n",
       "\n",
       "    .dataframe tbody tr th {\n",
       "        vertical-align: top;\n",
       "    }\n",
       "\n",
       "    .dataframe thead th {\n",
       "        text-align: right;\n",
       "    }\n",
       "</style>\n",
       "<table border=\"1\" class=\"dataframe\">\n",
       "  <thead>\n",
       "    <tr style=\"text-align: right;\">\n",
       "      <th></th>\n",
       "      <th>확진자 번호</th>\n",
       "      <th>확진일</th>\n",
       "      <th>감염경로</th>\n",
       "      <th>비고</th>\n",
       "    </tr>\n",
       "  </thead>\n",
       "  <tbody>\n",
       "    <tr>\n",
       "      <th>0</th>\n",
       "      <td>9613~9620</td>\n",
       "      <td>1. 30.(일)</td>\n",
       "      <td>확인 중</td>\n",
       "      <td>NaN</td>\n",
       "    </tr>\n",
       "    <tr>\n",
       "      <th>1</th>\n",
       "      <td>9611~9612</td>\n",
       "      <td>1. 30.(일)</td>\n",
       "      <td>확진자 접촉</td>\n",
       "      <td>NaN</td>\n",
       "    </tr>\n",
       "    <tr>\n",
       "      <th>2</th>\n",
       "      <td>9610</td>\n",
       "      <td>1. 30.(일)</td>\n",
       "      <td>확인 중</td>\n",
       "      <td>NaN</td>\n",
       "    </tr>\n",
       "    <tr>\n",
       "      <th>3</th>\n",
       "      <td>9607~9609</td>\n",
       "      <td>1. 30.(일)</td>\n",
       "      <td>확진자 접촉</td>\n",
       "      <td>NaN</td>\n",
       "    </tr>\n",
       "    <tr>\n",
       "      <th>4</th>\n",
       "      <td>9605~9606</td>\n",
       "      <td>1. 30.(일)</td>\n",
       "      <td>확인 중</td>\n",
       "      <td>NaN</td>\n",
       "    </tr>\n",
       "    <tr>\n",
       "      <th>...</th>\n",
       "      <td>...</td>\n",
       "      <td>...</td>\n",
       "      <td>...</td>\n",
       "      <td>...</td>\n",
       "    </tr>\n",
       "    <tr>\n",
       "      <th>744</th>\n",
       "      <td>8269</td>\n",
       "      <td>1. 19.(수)</td>\n",
       "      <td>마포구 확진자 접촉(가족)</td>\n",
       "      <td>NaN</td>\n",
       "    </tr>\n",
       "    <tr>\n",
       "      <th>745</th>\n",
       "      <td>8268</td>\n",
       "      <td>1. 19.(수)</td>\n",
       "      <td>마포구 확진자 접촉(가족)</td>\n",
       "      <td>NaN</td>\n",
       "    </tr>\n",
       "    <tr>\n",
       "      <th>746</th>\n",
       "      <td>8267</td>\n",
       "      <td>1. 19.(수)</td>\n",
       "      <td>본인판단</td>\n",
       "      <td>NaN</td>\n",
       "    </tr>\n",
       "    <tr>\n",
       "      <th>747</th>\n",
       "      <td>8266</td>\n",
       "      <td>1. 19.(수)</td>\n",
       "      <td>본인판단</td>\n",
       "      <td>NaN</td>\n",
       "    </tr>\n",
       "    <tr>\n",
       "      <th>748</th>\n",
       "      <td>8265</td>\n",
       "      <td>1. 19.(수)</td>\n",
       "      <td>본인판단</td>\n",
       "      <td>NaN</td>\n",
       "    </tr>\n",
       "  </tbody>\n",
       "</table>\n",
       "<p>749 rows × 4 columns</p>\n",
       "</div>"
      ],
      "text/plain": [
       "        확진자 번호        확진일            감염경로  비고\n",
       "0    9613~9620  1. 30.(일)            확인 중 NaN\n",
       "1    9611~9612  1. 30.(일)          확진자 접촉 NaN\n",
       "2         9610  1. 30.(일)            확인 중 NaN\n",
       "3    9607~9609  1. 30.(일)          확진자 접촉 NaN\n",
       "4    9605~9606  1. 30.(일)            확인 중 NaN\n",
       "..         ...        ...             ...  ..\n",
       "744       8269  1. 19.(수)  마포구 확진자 접촉(가족) NaN\n",
       "745       8268  1. 19.(수)  마포구 확진자 접촉(가족) NaN\n",
       "746       8267  1. 19.(수)            본인판단 NaN\n",
       "747       8266  1. 19.(수)            본인판단 NaN\n",
       "748       8265  1. 19.(수)            본인판단 NaN\n",
       "\n",
       "[749 rows x 4 columns]"
      ]
     },
     "execution_count": 9,
     "metadata": {},
     "output_type": "execute_result"
    }
   ],
   "source": [
    "df=table2[0]\n",
    "df"
   ]
  },
  {
   "cell_type": "markdown",
   "id": "434a8256",
   "metadata": {
    "ExecuteTime": {
     "end_time": "2022-01-31T13:39:20.293573Z",
     "start_time": "2022-01-31T13:39:20.287853Z"
    }
   },
   "source": [
    " # shape로 행,열의 개수 알아보기"
   ]
  },
  {
   "cell_type": "code",
   "execution_count": 10,
   "id": "3fd2fa27",
   "metadata": {
    "ExecuteTime": {
     "end_time": "2022-01-31T11:35:56.140888Z",
     "start_time": "2022-01-31T11:35:56.125859Z"
    }
   },
   "outputs": [
    {
     "data": {
      "text/plain": [
       "(749, 4)"
      ]
     },
     "execution_count": 10,
     "metadata": {},
     "output_type": "execute_result"
    }
   ],
   "source": [
    "# .shape은 몇개의 행과 열이 있는지 알 수 있음\n",
    "df.shape"
   ]
  },
  {
   "cell_type": "code",
   "execution_count": 11,
   "id": "50733aed",
   "metadata": {
    "ExecuteTime": {
     "end_time": "2022-01-31T11:35:56.184560Z",
     "start_time": "2022-01-31T11:35:56.144549Z"
    }
   },
   "outputs": [
    {
     "data": {
      "text/html": [
       "<div>\n",
       "<style scoped>\n",
       "    .dataframe tbody tr th:only-of-type {\n",
       "        vertical-align: middle;\n",
       "    }\n",
       "\n",
       "    .dataframe tbody tr th {\n",
       "        vertical-align: top;\n",
       "    }\n",
       "\n",
       "    .dataframe thead th {\n",
       "        text-align: right;\n",
       "    }\n",
       "</style>\n",
       "<table border=\"1\" class=\"dataframe\">\n",
       "  <thead>\n",
       "    <tr style=\"text-align: right;\">\n",
       "      <th></th>\n",
       "      <th>확진자 번호</th>\n",
       "      <th>확진일</th>\n",
       "      <th>감염경로</th>\n",
       "      <th>비고</th>\n",
       "    </tr>\n",
       "  </thead>\n",
       "  <tbody>\n",
       "    <tr>\n",
       "      <th>0</th>\n",
       "      <td>9613~9620</td>\n",
       "      <td>1. 30.(일)</td>\n",
       "      <td>확인 중</td>\n",
       "      <td>NaN</td>\n",
       "    </tr>\n",
       "    <tr>\n",
       "      <th>1</th>\n",
       "      <td>9611~9612</td>\n",
       "      <td>1. 30.(일)</td>\n",
       "      <td>확진자 접촉</td>\n",
       "      <td>NaN</td>\n",
       "    </tr>\n",
       "    <tr>\n",
       "      <th>2</th>\n",
       "      <td>9610</td>\n",
       "      <td>1. 30.(일)</td>\n",
       "      <td>확인 중</td>\n",
       "      <td>NaN</td>\n",
       "    </tr>\n",
       "    <tr>\n",
       "      <th>3</th>\n",
       "      <td>9607~9609</td>\n",
       "      <td>1. 30.(일)</td>\n",
       "      <td>확진자 접촉</td>\n",
       "      <td>NaN</td>\n",
       "    </tr>\n",
       "    <tr>\n",
       "      <th>4</th>\n",
       "      <td>9605~9606</td>\n",
       "      <td>1. 30.(일)</td>\n",
       "      <td>확인 중</td>\n",
       "      <td>NaN</td>\n",
       "    </tr>\n",
       "  </tbody>\n",
       "</table>\n",
       "</div>"
      ],
      "text/plain": [
       "      확진자 번호        확진일    감염경로  비고\n",
       "0  9613~9620  1. 30.(일)    확인 중 NaN\n",
       "1  9611~9612  1. 30.(일)  확진자 접촉 NaN\n",
       "2       9610  1. 30.(일)    확인 중 NaN\n",
       "3  9607~9609  1. 30.(일)  확진자 접촉 NaN\n",
       "4  9605~9606  1. 30.(일)    확인 중 NaN"
      ]
     },
     "execution_count": 11,
     "metadata": {},
     "output_type": "execute_result"
    }
   ],
   "source": [
    "df.head()"
   ]
  },
  {
   "cell_type": "markdown",
   "id": "92124efb",
   "metadata": {
    "ExecuteTime": {
     "end_time": "2022-01-31T13:42:02.641662Z",
     "start_time": "2022-01-31T13:42:02.636865Z"
    }
   },
   "source": [
    " # iloc[]와 loc[]"
   ]
  },
  {
   "cell_type": "code",
   "execution_count": 12,
   "id": "6a3273c3",
   "metadata": {
    "ExecuteTime": {
     "end_time": "2022-01-31T11:35:56.216305Z",
     "start_time": "2022-01-31T11:35:56.191929Z"
    }
   },
   "outputs": [
    {
     "data": {
      "text/plain": [
       "확진자 번호    9613~9620\n",
       "확진일       1. 30.(일)\n",
       "감염경로           확인 중\n",
       "비고              NaN\n",
       "Name: 0, dtype: object"
      ]
     },
     "execution_count": 12,
     "metadata": {},
     "output_type": "execute_result"
    }
   ],
   "source": [
    "#가장 최근의 확진자 정보를 가져온다.\n",
    "df.loc[0]        #loc[]는 레이블 기반"
   ]
  },
  {
   "cell_type": "code",
   "execution_count": 13,
   "id": "e7059332",
   "metadata": {
    "ExecuteTime": {
     "end_time": "2022-01-31T11:35:56.231030Z",
     "start_time": "2022-01-31T11:35:56.221362Z"
    }
   },
   "outputs": [
    {
     "data": {
      "text/plain": [
       "'1. 30.(일)'"
      ]
     },
     "execution_count": 13,
     "metadata": {},
     "output_type": "execute_result"
    }
   ],
   "source": [
    "#가장 최근 확진자의 확진일 정보를 가져온다.\n",
    "#loc[행, 열]은 레이블 기반이다. column을 가져올때 column의 레이블을 가져온다.\n",
    "df.loc[0, \"확진일\"]   "
   ]
  },
  {
   "cell_type": "code",
   "execution_count": 14,
   "id": "7ec0f538",
   "metadata": {
    "ExecuteTime": {
     "end_time": "2022-01-31T11:35:56.251527Z",
     "start_time": "2022-01-31T11:35:56.235841Z"
    }
   },
   "outputs": [
    {
     "data": {
      "text/plain": [
       "'1. 30.(일)'"
      ]
     },
     "execution_count": 14,
     "metadata": {},
     "output_type": "execute_result"
    }
   ],
   "source": [
    "#iloc[행, 열]는 정수기반이다. column을 가져올 때 column의 index를 가져온다.\n",
    "#이 방법이 훨씬 빠르다.\n",
    "df.iloc[0, 1]   "
   ]
  },
  {
   "cell_type": "code",
   "execution_count": 15,
   "id": "48c6486e",
   "metadata": {
    "ExecuteTime": {
     "end_time": "2022-01-31T11:35:59.694673Z",
     "start_time": "2022-01-31T11:35:56.254797Z"
    }
   },
   "outputs": [
    {
     "name": "stdout",
     "output_type": "stream",
     "text": [
      "40.1 µs ± 798 ns per loop (mean ± std. dev. of 7 runs, 10000 loops each)\n"
     ]
    }
   ],
   "source": [
    "%timeit df.iloc[0, 1]   "
   ]
  },
  {
   "cell_type": "code",
   "execution_count": 16,
   "id": "5724d108",
   "metadata": {
    "ExecuteTime": {
     "end_time": "2022-01-31T11:35:59.723069Z",
     "start_time": "2022-01-31T11:35:59.700449Z"
    }
   },
   "outputs": [
    {
     "data": {
      "text/plain": [
       "'1. 30.(일)'"
      ]
     },
     "execution_count": 16,
     "metadata": {},
     "output_type": "execute_result"
    }
   ],
   "source": [
    "#iloc[행][\"컬럼명\"]이렇게 해서 인덱싱 할수도 있다.\n",
    "#이 방법은 위에 방법보다 훨씬 느리다.\n",
    "df.iloc[0][\"확진일\"]"
   ]
  },
  {
   "cell_type": "code",
   "execution_count": 17,
   "id": "c6bd6523",
   "metadata": {
    "ExecuteTime": {
     "end_time": "2022-01-31T11:36:01.335780Z",
     "start_time": "2022-01-31T11:35:59.727319Z"
    }
   },
   "outputs": [
    {
     "name": "stdout",
     "output_type": "stream",
     "text": [
      "193 µs ± 26.2 µs per loop (mean ± std. dev. of 7 runs, 1000 loops each)\n"
     ]
    }
   ],
   "source": [
    "%timeit   df.iloc[0][\"확진일\"]"
   ]
  },
  {
   "cell_type": "code",
   "execution_count": 18,
   "id": "6c27427d",
   "metadata": {
    "ExecuteTime": {
     "end_time": "2022-01-31T11:36:01.359681Z",
     "start_time": "2022-01-31T11:36:01.340359Z"
    }
   },
   "outputs": [
    {
     "data": {
      "text/plain": [
       "'1.30.(일)'"
      ]
     },
     "execution_count": 18,
     "metadata": {},
     "output_type": "execute_result"
    }
   ],
   "source": [
    "last_day=df.loc[0, \"확진일\"]   #loc[]는 행값에 -1처럼 -값을 입력하지 못한다\n",
    "last_day=last_day.replace(\" \", \"\")\n",
    "last_day"
   ]
  },
  {
   "cell_type": "code",
   "execution_count": 19,
   "id": "4079a9aa",
   "metadata": {
    "ExecuteTime": {
     "end_time": "2022-01-31T11:36:01.383353Z",
     "start_time": "2022-01-31T11:36:01.365397Z"
    }
   },
   "outputs": [
    {
     "data": {
      "text/plain": [
       "'1.19.(수)'"
      ]
     },
     "execution_count": 19,
     "metadata": {},
     "output_type": "execute_result"
    }
   ],
   "source": [
    "first_day=df.iloc[-1, 1]   #iloc[]는 행값에 -1처럼 -값 입력 가능하다.\n",
    "first_day=first_day.replace(\" \", \"\")\n",
    "first_day"
   ]
  },
  {
   "cell_type": "markdown",
   "id": "b740dceb",
   "metadata": {
    "ExecuteTime": {
     "end_time": "2022-01-31T13:41:25.315268Z",
     "start_time": "2022-01-31T13:41:25.301150Z"
    }
   },
   "source": [
    " # 파일명 만들기"
   ]
  },
  {
   "cell_type": "code",
   "execution_count": 20,
   "id": "f1744bf4",
   "metadata": {
    "ExecuteTime": {
     "end_time": "2022-01-31T11:36:01.400962Z",
     "start_time": "2022-01-31T11:36:01.385805Z"
    }
   },
   "outputs": [],
   "source": [
    "#파일명을 만들어 줍니다.\n",
    "file_name_csv=f\"{first_day}~{last_day}의 마포구 확진자.csv\"\n",
    "file_name_csv_excel=f\"{first_day}~{last_day}의 마포구 확진자.csv\""
   ]
  },
  {
   "cell_type": "markdown",
   "id": "85d3ded3",
   "metadata": {
    "ExecuteTime": {
     "end_time": "2022-01-31T13:42:33.635984Z",
     "start_time": "2022-01-31T13:42:33.628403Z"
    }
   },
   "source": [
    " # to_csv로 csv파일로 저장"
   ]
  },
  {
   "cell_type": "code",
   "execution_count": 21,
   "id": "adf73aa5",
   "metadata": {
    "ExecuteTime": {
     "end_time": "2022-01-31T11:36:01.428750Z",
     "start_time": "2022-01-31T11:36:01.403397Z"
    }
   },
   "outputs": [],
   "source": [
    "#인덱스는 빼고 csv파일로 저장합니다.\n",
    "df.to_csv(file_name_csv, index=False)"
   ]
  },
  {
   "cell_type": "markdown",
   "id": "d32f0941",
   "metadata": {
    "ExecuteTime": {
     "end_time": "2022-01-31T13:43:11.212302Z",
     "start_time": "2022-01-31T13:43:11.198143Z"
    }
   },
   "source": [
    " # read_csv로 csv파일 읽는법"
   ]
  },
  {
   "cell_type": "code",
   "execution_count": 22,
   "id": "3fc00f15",
   "metadata": {
    "ExecuteTime": {
     "end_time": "2022-01-31T11:36:01.495358Z",
     "start_time": "2022-01-31T11:36:01.431933Z"
    }
   },
   "outputs": [
    {
     "data": {
      "text/html": [
       "<div>\n",
       "<style scoped>\n",
       "    .dataframe tbody tr th:only-of-type {\n",
       "        vertical-align: middle;\n",
       "    }\n",
       "\n",
       "    .dataframe tbody tr th {\n",
       "        vertical-align: top;\n",
       "    }\n",
       "\n",
       "    .dataframe thead th {\n",
       "        text-align: right;\n",
       "    }\n",
       "</style>\n",
       "<table border=\"1\" class=\"dataframe\">\n",
       "  <thead>\n",
       "    <tr style=\"text-align: right;\">\n",
       "      <th></th>\n",
       "      <th>확진자 번호</th>\n",
       "      <th>확진일</th>\n",
       "      <th>감염경로</th>\n",
       "      <th>비고</th>\n",
       "    </tr>\n",
       "  </thead>\n",
       "  <tbody>\n",
       "    <tr>\n",
       "      <th>0</th>\n",
       "      <td>9613~9620</td>\n",
       "      <td>1. 30.(일)</td>\n",
       "      <td>확인 중</td>\n",
       "      <td>NaN</td>\n",
       "    </tr>\n",
       "    <tr>\n",
       "      <th>1</th>\n",
       "      <td>9611~9612</td>\n",
       "      <td>1. 30.(일)</td>\n",
       "      <td>확진자 접촉</td>\n",
       "      <td>NaN</td>\n",
       "    </tr>\n",
       "    <tr>\n",
       "      <th>2</th>\n",
       "      <td>9610</td>\n",
       "      <td>1. 30.(일)</td>\n",
       "      <td>확인 중</td>\n",
       "      <td>NaN</td>\n",
       "    </tr>\n",
       "    <tr>\n",
       "      <th>3</th>\n",
       "      <td>9607~9609</td>\n",
       "      <td>1. 30.(일)</td>\n",
       "      <td>확진자 접촉</td>\n",
       "      <td>NaN</td>\n",
       "    </tr>\n",
       "    <tr>\n",
       "      <th>4</th>\n",
       "      <td>9605~9606</td>\n",
       "      <td>1. 30.(일)</td>\n",
       "      <td>확인 중</td>\n",
       "      <td>NaN</td>\n",
       "    </tr>\n",
       "    <tr>\n",
       "      <th>...</th>\n",
       "      <td>...</td>\n",
       "      <td>...</td>\n",
       "      <td>...</td>\n",
       "      <td>...</td>\n",
       "    </tr>\n",
       "    <tr>\n",
       "      <th>744</th>\n",
       "      <td>8269</td>\n",
       "      <td>1. 19.(수)</td>\n",
       "      <td>마포구 확진자 접촉(가족)</td>\n",
       "      <td>NaN</td>\n",
       "    </tr>\n",
       "    <tr>\n",
       "      <th>745</th>\n",
       "      <td>8268</td>\n",
       "      <td>1. 19.(수)</td>\n",
       "      <td>마포구 확진자 접촉(가족)</td>\n",
       "      <td>NaN</td>\n",
       "    </tr>\n",
       "    <tr>\n",
       "      <th>746</th>\n",
       "      <td>8267</td>\n",
       "      <td>1. 19.(수)</td>\n",
       "      <td>본인판단</td>\n",
       "      <td>NaN</td>\n",
       "    </tr>\n",
       "    <tr>\n",
       "      <th>747</th>\n",
       "      <td>8266</td>\n",
       "      <td>1. 19.(수)</td>\n",
       "      <td>본인판단</td>\n",
       "      <td>NaN</td>\n",
       "    </tr>\n",
       "    <tr>\n",
       "      <th>748</th>\n",
       "      <td>8265</td>\n",
       "      <td>1. 19.(수)</td>\n",
       "      <td>본인판단</td>\n",
       "      <td>NaN</td>\n",
       "    </tr>\n",
       "  </tbody>\n",
       "</table>\n",
       "<p>749 rows × 4 columns</p>\n",
       "</div>"
      ],
      "text/plain": [
       "        확진자 번호        확진일            감염경로  비고\n",
       "0    9613~9620  1. 30.(일)            확인 중 NaN\n",
       "1    9611~9612  1. 30.(일)          확진자 접촉 NaN\n",
       "2         9610  1. 30.(일)            확인 중 NaN\n",
       "3    9607~9609  1. 30.(일)          확진자 접촉 NaN\n",
       "4    9605~9606  1. 30.(일)            확인 중 NaN\n",
       "..         ...        ...             ...  ..\n",
       "744       8269  1. 19.(수)  마포구 확진자 접촉(가족) NaN\n",
       "745       8268  1. 19.(수)  마포구 확진자 접촉(가족) NaN\n",
       "746       8267  1. 19.(수)            본인판단 NaN\n",
       "747       8266  1. 19.(수)            본인판단 NaN\n",
       "748       8265  1. 19.(수)            본인판단 NaN\n",
       "\n",
       "[749 rows x 4 columns]"
      ]
     },
     "execution_count": 22,
     "metadata": {},
     "output_type": "execute_result"
    }
   ],
   "source": [
    "#제대로 저장되었는지 확인합니다.\n",
    "pd.read_csv(file_name_csv)"
   ]
  },
  {
   "cell_type": "markdown",
   "id": "55afee61",
   "metadata": {
    "ExecuteTime": {
     "end_time": "2022-01-31T13:43:35.380600Z",
     "start_time": "2022-01-31T13:43:35.367633Z"
    }
   },
   "source": [
    " # 인덱스 제외하고 엑셀형태의 csv파일 형태로 저장하는법"
   ]
  },
  {
   "cell_type": "code",
   "execution_count": 23,
   "id": "2ccca946",
   "metadata": {
    "ExecuteTime": {
     "end_time": "2022-01-31T11:36:01.526546Z",
     "start_time": "2022-01-31T11:36:01.501449Z"
    }
   },
   "outputs": [],
   "source": [
    "#인덱스는 빼고 엑셀형태의 csv파일로 저장합니다.\n",
    "df.to_csv(file_name_csv_excel, index=False, encoding=\"cp949\")"
   ]
  },
  {
   "cell_type": "markdown",
   "id": "47f4dc80",
   "metadata": {
    "ExecuteTime": {
     "end_time": "2022-01-31T13:43:57.787875Z",
     "start_time": "2022-01-31T13:43:57.774772Z"
    }
   },
   "source": [
    " # 엑셀형태의 csv파일 읽는 법"
   ]
  },
  {
   "cell_type": "code",
   "execution_count": 24,
   "id": "6e74c418",
   "metadata": {
    "ExecuteTime": {
     "end_time": "2022-01-31T11:36:01.587315Z",
     "start_time": "2022-01-31T11:36:01.529857Z"
    }
   },
   "outputs": [
    {
     "data": {
      "text/html": [
       "<div>\n",
       "<style scoped>\n",
       "    .dataframe tbody tr th:only-of-type {\n",
       "        vertical-align: middle;\n",
       "    }\n",
       "\n",
       "    .dataframe tbody tr th {\n",
       "        vertical-align: top;\n",
       "    }\n",
       "\n",
       "    .dataframe thead th {\n",
       "        text-align: right;\n",
       "    }\n",
       "</style>\n",
       "<table border=\"1\" class=\"dataframe\">\n",
       "  <thead>\n",
       "    <tr style=\"text-align: right;\">\n",
       "      <th></th>\n",
       "      <th>확진자 번호</th>\n",
       "      <th>확진일</th>\n",
       "      <th>감염경로</th>\n",
       "      <th>비고</th>\n",
       "    </tr>\n",
       "  </thead>\n",
       "  <tbody>\n",
       "    <tr>\n",
       "      <th>0</th>\n",
       "      <td>9613~9620</td>\n",
       "      <td>1. 30.(일)</td>\n",
       "      <td>확인 중</td>\n",
       "      <td>NaN</td>\n",
       "    </tr>\n",
       "    <tr>\n",
       "      <th>1</th>\n",
       "      <td>9611~9612</td>\n",
       "      <td>1. 30.(일)</td>\n",
       "      <td>확진자 접촉</td>\n",
       "      <td>NaN</td>\n",
       "    </tr>\n",
       "    <tr>\n",
       "      <th>2</th>\n",
       "      <td>9610</td>\n",
       "      <td>1. 30.(일)</td>\n",
       "      <td>확인 중</td>\n",
       "      <td>NaN</td>\n",
       "    </tr>\n",
       "    <tr>\n",
       "      <th>3</th>\n",
       "      <td>9607~9609</td>\n",
       "      <td>1. 30.(일)</td>\n",
       "      <td>확진자 접촉</td>\n",
       "      <td>NaN</td>\n",
       "    </tr>\n",
       "    <tr>\n",
       "      <th>4</th>\n",
       "      <td>9605~9606</td>\n",
       "      <td>1. 30.(일)</td>\n",
       "      <td>확인 중</td>\n",
       "      <td>NaN</td>\n",
       "    </tr>\n",
       "    <tr>\n",
       "      <th>...</th>\n",
       "      <td>...</td>\n",
       "      <td>...</td>\n",
       "      <td>...</td>\n",
       "      <td>...</td>\n",
       "    </tr>\n",
       "    <tr>\n",
       "      <th>744</th>\n",
       "      <td>8269</td>\n",
       "      <td>1. 19.(수)</td>\n",
       "      <td>마포구 확진자 접촉(가족)</td>\n",
       "      <td>NaN</td>\n",
       "    </tr>\n",
       "    <tr>\n",
       "      <th>745</th>\n",
       "      <td>8268</td>\n",
       "      <td>1. 19.(수)</td>\n",
       "      <td>마포구 확진자 접촉(가족)</td>\n",
       "      <td>NaN</td>\n",
       "    </tr>\n",
       "    <tr>\n",
       "      <th>746</th>\n",
       "      <td>8267</td>\n",
       "      <td>1. 19.(수)</td>\n",
       "      <td>본인판단</td>\n",
       "      <td>NaN</td>\n",
       "    </tr>\n",
       "    <tr>\n",
       "      <th>747</th>\n",
       "      <td>8266</td>\n",
       "      <td>1. 19.(수)</td>\n",
       "      <td>본인판단</td>\n",
       "      <td>NaN</td>\n",
       "    </tr>\n",
       "    <tr>\n",
       "      <th>748</th>\n",
       "      <td>8265</td>\n",
       "      <td>1. 19.(수)</td>\n",
       "      <td>본인판단</td>\n",
       "      <td>NaN</td>\n",
       "    </tr>\n",
       "  </tbody>\n",
       "</table>\n",
       "<p>749 rows × 4 columns</p>\n",
       "</div>"
      ],
      "text/plain": [
       "        확진자 번호        확진일            감염경로  비고\n",
       "0    9613~9620  1. 30.(일)            확인 중 NaN\n",
       "1    9611~9612  1. 30.(일)          확진자 접촉 NaN\n",
       "2         9610  1. 30.(일)            확인 중 NaN\n",
       "3    9607~9609  1. 30.(일)          확진자 접촉 NaN\n",
       "4    9605~9606  1. 30.(일)            확인 중 NaN\n",
       "..         ...        ...             ...  ..\n",
       "744       8269  1. 19.(수)  마포구 확진자 접촉(가족) NaN\n",
       "745       8268  1. 19.(수)  마포구 확진자 접촉(가족) NaN\n",
       "746       8267  1. 19.(수)            본인판단 NaN\n",
       "747       8266  1. 19.(수)            본인판단 NaN\n",
       "748       8265  1. 19.(수)            본인판단 NaN\n",
       "\n",
       "[749 rows x 4 columns]"
      ]
     },
     "execution_count": 24,
     "metadata": {},
     "output_type": "execute_result"
    }
   ],
   "source": [
    "#제대로 저장되었는지 확인합니다.\n",
    "pd.read_csv(file_name_csv_excel, encoding=\"cp949\")"
   ]
  },
  {
   "cell_type": "code",
   "execution_count": null,
   "id": "5c944228",
   "metadata": {},
   "outputs": [],
   "source": []
  }
 ],
 "metadata": {
  "kernelspec": {
   "display_name": "Python 3",
   "language": "python",
   "name": "python3"
  },
  "language_info": {
   "codemirror_mode": {
    "name": "ipython",
    "version": 3
   },
   "file_extension": ".py",
   "mimetype": "text/x-python",
   "name": "python",
   "nbconvert_exporter": "python",
   "pygments_lexer": "ipython3",
   "version": "3.8.8"
  },
  "toc": {
   "base_numbering": 1,
   "nav_menu": {},
   "number_sections": true,
   "sideBar": true,
   "skip_h1_title": false,
   "title_cell": "Table of Contents",
   "title_sidebar": "Contents",
   "toc_cell": false,
   "toc_position": {
    "height": "calc(100% - 180px)",
    "left": "10px",
    "top": "150px",
    "width": "165px"
   },
   "toc_section_display": true,
   "toc_window_display": true
  }
 },
 "nbformat": 4,
 "nbformat_minor": 5
}
